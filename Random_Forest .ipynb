{
  "nbformat": 4,
  "nbformat_minor": 0,
  "metadata": {
    "colab": {
      "provenance": []
    },
    "kernelspec": {
      "name": "python3",
      "display_name": "Python 3"
    },
    "language_info": {
      "name": "python"
    }
  },
  "cells": [
    {
      "cell_type": "code",
      "execution_count": null,
      "metadata": {
        "colab": {
          "base_uri": "https://localhost:8080/"
        },
        "id": "YSTW7Hc8KpwN",
        "outputId": "104c9ebb-d777-4f9a-cbc8-100a012f997a"
      },
      "outputs": [
        {
          "output_type": "stream",
          "name": "stdout",
          "text": [
            "訓練資料正確率: 1.0\n",
            "測試資料正確率: 0.9777777777777777\n"
          ]
        }
      ],
      "source": [
        "#n_estimators: 森林裡要有幾棵決策樹\n",
        "#max_depth: 決策樹高度有幾層\n",
        "#max_features: 屬性採用數目\n",
        "from sklearn.ensemble import RandomForestClassifier\n",
        "from sklearn import tree\n",
        "from sklearn.model_selection import train_test_split\n",
        "from sklearn.datasets import load_iris\n",
        "\n",
        "iris=load_iris()     #讀取資料\n",
        "iris_data=iris.data    #資料\n",
        "iris_label=iris.target  #分類代碼\n",
        "\n",
        "\n",
        "#X_train(訓練資料)、X_test(測試資料)、y_train(訓練結果)、y_test(測試結果)\n",
        "train_data,test_data,train_label,test_label=train_test_split(iris_data,iris_label,test_size=0.3)\n",
        "\n",
        "#n_estimators 森林中樹木的數量(base estimator的數量)\n",
        "#max_depth 限制樹的最大深度，超過設定深度的樹枝全部剪掉\n",
        "clf=RandomForestClassifier(n_estimators=80,max_depth=4)\n",
        "clf.fit(train_data,train_label)\n",
        "\n",
        "print(\"訓練資料正確率:\",clf.score(train_data,train_label)) # 訓練資料正確率\n",
        "print(\"測試資料正確率:\",clf.score(test_data,test_label)) # 測試資料正確率"
      ]
    },
    {
      "cell_type": "code",
      "source": [
        "from sklearn import datasets\n",
        "from sklearn.naive_bayes import GaussianNB\n",
        "from sklearn.model_selection import train_test_split\n",
        " \n",
        "iris=load_iris()     #讀取資料\n",
        "iris_data=iris.data    #資料\n",
        "iris_label=iris.target  #分類代碼\n",
        "\n",
        "train_data, test_data, train_label, test_label = train_test_split(x,y,test_size=0.3,random_state=0)\n",
        "clf=GaussianNB()\n",
        "clf.fit(train_data,train_label)\n",
        "print(\"訓練資料正確率:\",clf.score(train_data,train_label)) # 訓練資料正確率\n",
        "print(\"測試資料正確率:\",clf.score(test_data, test_label)) # 測試資料正確率\n",
        "predict=clf.predict(test_data)\n",
        "print(\"標準答案:\",test_label) # 標準答案\n",
        "print(\"預測答案:\",predict) # 預測答案"
      ],
      "metadata": {
        "colab": {
          "base_uri": "https://localhost:8080/"
        },
        "id": "V3LaKp5llRv3",
        "outputId": "f32a1986-e3b7-4c63-e529-1dc39c0f52f5"
      },
      "execution_count": null,
      "outputs": [
        {
          "output_type": "stream",
          "name": "stdout",
          "text": [
            "訓練資料正確率: 0.9428571428571428\n",
            "測試資料正確率: 1.0\n",
            "標準答案: [2 1 0 2 0 2 0 1 1 1 2 1 1 1 1 0 1 1 0 0 2 1 0 0 2 0 0 1 1 0 2 1 0 2 2 1 0\n",
            " 1 1 1 2 0 2 0 0]\n",
            "預測答案: [2 1 0 2 0 2 0 1 1 1 2 1 1 1 1 0 1 1 0 0 2 1 0 0 2 0 0 1 1 0 2 1 0 2 2 1 0\n",
            " 1 1 1 2 0 2 0 0]\n"
          ]
        }
      ]
    }
  ]
}